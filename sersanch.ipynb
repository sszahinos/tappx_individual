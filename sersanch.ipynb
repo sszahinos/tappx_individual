{
  "cells": [
    {
      "cell_type": "markdown",
      "metadata": {
        "id": "2j2dRqfQoG52"
      },
      "source": [
        "Proyecto creado por Sergio Sánchez Zahiños (sersanch)"
      ]
    },
    {
      "cell_type": "markdown",
      "metadata": {},
      "source": [
        "Importamos los módulos. Usaremos el modelo \"en_core_web_sm\" de Spacy"
      ]
    },
    {
      "cell_type": "code",
      "execution_count": null,
      "metadata": {
        "id": "Eg2tRNAKoIo9"
      },
      "outputs": [],
      "source": [
        "import pandas as pd\n",
        "import spacy\n",
        "import re\n",
        "from collections import Counter\n",
        "\n",
        "nlp = spacy.load(\"en_core_web_sm\")"
      ]
    },
    {
      "cell_type": "markdown",
      "metadata": {
        "id": "B2ZHKa7bn9hV"
      },
      "source": [
        "Importamos CSV y lo convertimos en dataframe (pandas)"
      ]
    },
    {
      "cell_type": "code",
      "execution_count": null,
      "metadata": {
        "colab": {
          "base_uri": "https://localhost:8080/",
          "height": 76
        },
        "id": "rHiuTlN5ni-Y",
        "outputId": "5146a66b-cc38-4d9e-d8d7-983d23d4a5df"
      },
      "outputs": [],
      "source": [
        "df = pd.read_csv(r'comments_user.csv')[['v1', 'v2']]"
      ]
    },
    {
      "cell_type": "markdown",
      "metadata": {
        "id": "GlhEDvsX-Oz4"
      },
      "source": [
        "Creamos un dataframe nuevo con los mensajes ya clasificados como spam"
      ]
    },
    {
      "cell_type": "code",
      "execution_count": 48,
      "metadata": {
        "id": "7nGaKSOX2JtO"
      },
      "outputs": [],
      "source": [
        "df_spam = df.loc[df['v1'] == 'spam']"
      ]
    },
    {
      "cell_type": "markdown",
      "metadata": {
        "id": "3cWT1y8_-iN7"
      },
      "source": [
        "Creamos una variables que contiene la concatenación de cada mensaje de spam, quitando números"
      ]
    },
    {
      "cell_type": "code",
      "execution_count": 71,
      "metadata": {
        "id": "345Wjcwj3Smu"
      },
      "outputs": [],
      "source": [
        "spam_text = ''\n",
        "for index, row in df_spam.iterrows():\n",
        "  spam_text += row['v2'] + \" \"\n",
        "spam_text = re.sub(r'\\d', '', spam_text)"
      ]
    },
    {
      "cell_type": "markdown",
      "metadata": {
        "id": "Hw3j7JJg5B8b"
      },
      "source": [
        "Tokenizamos las palabras quitando los carácteres que no nos interesan, como por ejemplo las \"stop words\""
      ]
    },
    {
      "cell_type": "code",
      "execution_count": 73,
      "metadata": {
        "id": "7yIrAFc94utq"
      },
      "outputs": [],
      "source": [
        "nlp_text = nlp(spam_text)\n",
        "filtered_words = [token.text for token in nlp_text if not token.is_stop and not token.is_punct]"
      ]
    },
    {
      "cell_type": "markdown",
      "metadata": {
        "id": "RPZeLySt-rvR"
      },
      "source": [
        "Hacemos una lista con las palabras (únicas) en los mensajes de spam"
      ]
    },
    {
      "cell_type": "code",
      "execution_count": null,
      "metadata": {
        "colab": {
          "base_uri": "https://localhost:8080/"
        },
        "id": "hbZRvUNb5MKl",
        "outputId": "069f4f3e-6b1f-414a-9df0-09188562ab15"
      },
      "outputs": [],
      "source": [
        "word_freq = Counter(filtered_words)\n",
        "common_words = word_freq.most_common()\n",
        "common_words = list(filter(lambda x: len(x[0]) >= 3, common_words))\n",
        "common_words = list(set([x[0].upper() for x in common_words]))"
      ]
    },
    {
      "cell_type": "markdown",
      "metadata": {
        "id": "8WIBRy9AzuGT"
      },
      "source": [
        "Creamos una función que clasifique un texto en si es SCAM o no. Si contiene al menos un 25% de palabras encontradas en los mensajes de spam, se clasifica como spam."
      ]
    },
    {
      "cell_type": "code",
      "execution_count": 93,
      "metadata": {
        "id": "mTsEy7TUxNQ_"
      },
      "outputs": [],
      "source": [
        "def is_scam(text: str, forbidden_words):\n",
        "  count = 0\n",
        "  words_number = len(text.split())\n",
        "  text = text.upper()\n",
        "  for word in forbidden_words:\n",
        "    if word in text:\n",
        "      count += 1\n",
        "  if count >= words_number * 0.25:\n",
        "    return True\n",
        "  return False"
      ]
    },
    {
      "cell_type": "markdown",
      "metadata": {
        "id": "yrtYyYZ0z6iu"
      },
      "source": [
        "Creamos la tabla final en la que guardaremos los resultados. Tendrá una columna 'comment' con el comentario y otra 'type', indicando si es scam o safe."
      ]
    },
    {
      "cell_type": "code",
      "execution_count": 94,
      "metadata": {
        "id": "3abk1a2pvugp"
      },
      "outputs": [],
      "source": [
        "final_table = pd.DataFrame(columns=['comment', 'type'])\n",
        "for index, row in df.iterrows():\n",
        "  if is_scam(row['v1'], common_words) or row['v1'] == 'spam':\n",
        "    comment_type = 'scam'\n",
        "  else:\n",
        "    comment_type = 'safe'\n",
        "  final_table.loc[index] = [row['v2'], comment_type]"
      ]
    },
    {
      "cell_type": "markdown",
      "metadata": {
        "id": "x8ocowXnAGTg"
      },
      "source": [
        "Transformamos la tabla a formato CSV e imprimimos"
      ]
    },
    {
      "cell_type": "code",
      "execution_count": null,
      "metadata": {
        "colab": {
          "base_uri": "https://localhost:8080/"
        },
        "id": "LlxutHVSynuh",
        "outputId": "a1e821e2-a8ad-40aa-e593-d52bd13a9930"
      },
      "outputs": [],
      "source": [
        "final_csv = final_table.to_csv()\n",
        "print(final_csv)"
      ]
    }
  ],
  "metadata": {
    "colab": {
      "provenance": []
    },
    "kernelspec": {
      "display_name": "Python 3.8.2 64-bit",
      "language": "python",
      "name": "python3"
    },
    "language_info": {
      "codemirror_mode": {
        "name": "ipython",
        "version": 3
      },
      "file_extension": ".py",
      "mimetype": "text/x-python",
      "name": "python",
      "nbconvert_exporter": "python",
      "pygments_lexer": "ipython3",
      "version": "3.8.2"
    },
    "vscode": {
      "interpreter": {
        "hash": "31f2aee4e71d21fbe5cf8b01ff0e069b9275f58929596ceb00d14d90e3e16cd6"
      }
    }
  },
  "nbformat": 4,
  "nbformat_minor": 0
}
